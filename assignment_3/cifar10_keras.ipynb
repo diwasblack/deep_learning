{
  "nbformat": 4,
  "nbformat_minor": 0,
  "metadata": {
    "colab": {
      "name": "cifar10_keras.ipynb",
      "version": "0.3.2",
      "views": {},
      "default_view": {},
      "provenance": [],
      "collapsed_sections": []
    },
    "kernelspec": {
      "name": "python3",
      "display_name": "Python 3"
    },
    "accelerator": "GPU"
  },
  "cells": [
    {
      "metadata": {
        "id": "n6XjE4ykDuAa",
        "colab_type": "text"
      },
      "cell_type": "markdown",
      "source": [
        "#Initialization"
      ]
    },
    {
      "metadata": {
        "id": "qfiJKgCBDaoG",
        "colab_type": "code",
        "colab": {
          "autoexec": {
            "startup": false,
            "wait_interval": 0
          },
          "base_uri": "https://localhost:8080/",
          "height": 35
        },
        "outputId": "1f23697e-1907-4f93-ea4e-6bc1a474bce7",
        "executionInfo": {
          "status": "ok",
          "timestamp": 1532964752362,
          "user_tz": 300,
          "elapsed": 8225,
          "user": {
            "displayName": "Diwas Sharma",
            "photoUrl": "//lh5.googleusercontent.com/-h1ZOMYxUceQ/AAAAAAAAAAI/AAAAAAAABf4/Hrms7AvHN-U/s50-c-k-no/photo.jpg",
            "userId": "111891363204141118836"
          }
        }
      },
      "cell_type": "code",
      "source": [
        "from keras.datasets import cifar10\n",
        "from keras.models import Sequential\n",
        "from keras.layers.core import Dense, Flatten\n",
        "from keras.layers.convolutional import Conv2D\n",
        "from keras.optimizers import Adam\n",
        "from keras.layers.pooling import MaxPooling2D\n",
        "from keras.utils import to_categorical\n",
        "from keras.datasets import cifar10"
      ],
      "execution_count": 2,
      "outputs": [
        {
          "output_type": "stream",
          "text": [
            "Using TensorFlow backend.\n"
          ],
          "name": "stderr"
        }
      ]
    },
    {
      "metadata": {
        "id": "MOpYrawiFAos",
        "colab_type": "text"
      },
      "cell_type": "markdown",
      "source": [
        "#Preprocessing"
      ]
    },
    {
      "metadata": {
        "id": "NKpxQneDE-iw",
        "colab_type": "code",
        "colab": {
          "autoexec": {
            "startup": false,
            "wait_interval": 0
          },
          "base_uri": "https://localhost:8080/",
          "height": 54
        },
        "outputId": "631f617e-c6eb-4c79-af02-585a2e8183f3",
        "executionInfo": {
          "status": "ok",
          "timestamp": 1532964783746,
          "user_tz": 300,
          "elapsed": 29797,
          "user": {
            "displayName": "Diwas Sharma",
            "photoUrl": "//lh5.googleusercontent.com/-h1ZOMYxUceQ/AAAAAAAAAAI/AAAAAAAABf4/Hrms7AvHN-U/s50-c-k-no/photo.jpg",
            "userId": "111891363204141118836"
          }
        }
      },
      "cell_type": "code",
      "source": [
        "# Load dataset\n",
        "(x_train, y_train), (x_test, y_test) = cifar10.load_data() \n",
        "\n",
        "# Convert training data to floating points\n",
        "X_train = x_train.astype('float32')\n",
        "X_test = x_test.astype('float32')\n",
        "X_train = x_train / 255.0\n",
        "X_test = x_test / 255.0\n",
        "\n",
        "# Convert labels to one hot encoding\n",
        "Y_train = to_categorical(y_train)\n",
        "Y_test = to_categorical(y_test)"
      ],
      "execution_count": 3,
      "outputs": [
        {
          "output_type": "stream",
          "text": [
            "Downloading data from https://www.cs.toronto.edu/~kriz/cifar-10-python.tar.gz\n",
            "170500096/170498071 [==============================] - 25s 0us/step\n"
          ],
          "name": "stdout"
        }
      ]
    },
    {
      "metadata": {
        "id": "ZAos4KuMFeok",
        "colab_type": "text"
      },
      "cell_type": "markdown",
      "source": [
        "#Model"
      ]
    },
    {
      "metadata": {
        "id": "pX8ecf3aFk7j",
        "colab_type": "code",
        "colab": {
          "autoexec": {
            "startup": false,
            "wait_interval": 0
          }
        }
      },
      "cell_type": "code",
      "source": [
        "# Create the model\n",
        "model = Sequential()\n",
        "\n",
        "model.add(Conv2D(4, kernel_size=(3, 3), activation='relu', input_shape=(32, 32, 3)))\n",
        "model.add(MaxPooling2D(pool_size=(2, 2)))\n",
        "model.add(Conv2D(16, kernel_size=(3, 3), activation='relu'))\n",
        "model.add(MaxPooling2D(pool_size=(2, 2)))\n",
        "model.add(Conv2D(32, kernel_size=(3, 3), activation='relu'))\n",
        "model.add(Flatten())\n",
        "model.add(Dense(10, activation='softmax'))\n",
        "\n",
        "# Compile the model\n",
        "model.compile(loss='categorical_crossentropy',\n",
        "              optimizer=Adam(lr=0.0001, decay=1e-6),\n",
        "metrics=['accuracy'])\n"
      ],
      "execution_count": 0,
      "outputs": []
    },
    {
      "metadata": {
        "id": "WUX2It4aGSgD",
        "colab_type": "text"
      },
      "cell_type": "markdown",
      "source": [
        "#Training"
      ]
    },
    {
      "metadata": {
        "id": "D2l_lnSpGT69",
        "colab_type": "code",
        "colab": {
          "autoexec": {
            "startup": false,
            "wait_interval": 0
          },
          "base_uri": "https://localhost:8080/",
          "height": 11074
        },
        "outputId": "6b42329c-ef49-4796-f039-bb19d4c30e45",
        "executionInfo": {
          "status": "ok",
          "timestamp": 1532966152023,
          "user_tz": 300,
          "elapsed": 1361288,
          "user": {
            "displayName": "Diwas Sharma",
            "photoUrl": "//lh5.googleusercontent.com/-h1ZOMYxUceQ/AAAAAAAAAAI/AAAAAAAABf4/Hrms7AvHN-U/s50-c-k-no/photo.jpg",
            "userId": "111891363204141118836"
          }
        }
      },
      "cell_type": "code",
      "source": [
        " # Train the model\n",
        "model.fit(\n",
        "    X_train,\n",
        "    Y_train,\n",
        "    batch_size=128,\n",
        "    shuffle=True,\n",
        "    epochs=300\n",
        ")"
      ],
      "execution_count": 5,
      "outputs": [
        {
          "output_type": "stream",
          "text": [
            "WARNING:tensorflow:Variable *= will be deprecated. Use variable.assign_mul if you want assignment to the variable value or 'x = x * y' if you want a new python Tensor object.\n",
            "Epoch 1/300\n",
            "50000/50000 [==============================] - 6s 127us/step - loss: 2.2557 - acc: 0.1664\n",
            "Epoch 2/300\n",
            "50000/50000 [==============================] - 5s 91us/step - loss: 2.0711 - acc: 0.2693\n",
            "Epoch 3/300\n",
            "50000/50000 [==============================] - 5s 90us/step - loss: 1.8718 - acc: 0.3385\n",
            "Epoch 4/300\n",
            " 9472/50000 [====>.........................] - ETA: 3s - loss: 1.8042 - acc: 0.3559"
          ],
          "name": "stdout"
        },
        {
          "output_type": "stream",
          "text": [
            "50000/50000 [==============================] - 5s 92us/step - loss: 1.7793 - acc: 0.3675\n",
            "Epoch 5/300\n",
            "50000/50000 [==============================] - 5s 90us/step - loss: 1.7254 - acc: 0.3861\n",
            "Epoch 6/300\n",
            "50000/50000 [==============================] - 5s 90us/step - loss: 1.6837 - acc: 0.4014\n",
            "Epoch 7/300\n",
            "50000/50000 [==============================] - 5s 91us/step - loss: 1.6514 - acc: 0.4130\n",
            "Epoch 8/300\n",
            "31744/50000 [==================>...........] - ETA: 1s - loss: 1.6315 - acc: 0.4194"
          ],
          "name": "stdout"
        },
        {
          "output_type": "stream",
          "text": [
            "50000/50000 [==============================] - 5s 90us/step - loss: 1.6249 - acc: 0.4222\n",
            "Epoch 9/300\n",
            "50000/50000 [==============================] - 5s 91us/step - loss: 1.6031 - acc: 0.4305\n",
            "Epoch 10/300\n",
            "50000/50000 [==============================] - 5s 91us/step - loss: 1.5855 - acc: 0.4375\n",
            "Epoch 11/300\n",
            "50000/50000 [==============================] - 5s 90us/step - loss: 1.5704 - acc: 0.4437\n",
            "Epoch 12/300\n",
            "34688/50000 [===================>..........] - ETA: 1s - loss: 1.5573 - acc: 0.4482"
          ],
          "name": "stdout"
        },
        {
          "output_type": "stream",
          "text": [
            "50000/50000 [==============================] - 5s 91us/step - loss: 1.5550 - acc: 0.4490\n",
            "Epoch 13/300\n",
            "50000/50000 [==============================] - 5s 91us/step - loss: 1.5424 - acc: 0.4526\n",
            "Epoch 14/300\n",
            "50000/50000 [==============================] - 5s 91us/step - loss: 1.5310 - acc: 0.4572\n",
            "Epoch 15/300\n",
            "50000/50000 [==============================] - 5s 91us/step - loss: 1.5216 - acc: 0.4631\n",
            "Epoch 16/300\n",
            "34816/50000 [===================>..........] - ETA: 1s - loss: 1.5170 - acc: 0.4645"
          ],
          "name": "stdout"
        },
        {
          "output_type": "stream",
          "text": [
            "50000/50000 [==============================] - 5s 91us/step - loss: 1.5130 - acc: 0.4649\n",
            "Epoch 17/300\n",
            "50000/50000 [==============================] - 5s 91us/step - loss: 1.5026 - acc: 0.4678\n",
            "Epoch 18/300\n",
            "50000/50000 [==============================] - 5s 91us/step - loss: 1.4948 - acc: 0.4705\n",
            "Epoch 19/300\n",
            "50000/50000 [==============================] - 5s 91us/step - loss: 1.4868 - acc: 0.4729\n",
            "Epoch 20/300\n",
            "33920/50000 [===================>..........] - ETA: 1s - loss: 1.4781 - acc: 0.4764"
          ],
          "name": "stdout"
        },
        {
          "output_type": "stream",
          "text": [
            "50000/50000 [==============================] - 5s 92us/step - loss: 1.4805 - acc: 0.4751\n",
            "Epoch 21/300\n",
            "50000/50000 [==============================] - 5s 91us/step - loss: 1.4728 - acc: 0.4781\n",
            "Epoch 22/300\n",
            "50000/50000 [==============================] - 5s 91us/step - loss: 1.4653 - acc: 0.4815\n",
            "Epoch 23/300\n",
            "50000/50000 [==============================] - 5s 90us/step - loss: 1.4580 - acc: 0.4832\n",
            "Epoch 24/300\n",
            "35584/50000 [====================>.........] - ETA: 1s - loss: 1.4458 - acc: 0.4897"
          ],
          "name": "stdout"
        },
        {
          "output_type": "stream",
          "text": [
            "50000/50000 [==============================] - 4s 90us/step - loss: 1.4524 - acc: 0.4864\n",
            "Epoch 25/300\n",
            "50000/50000 [==============================] - 5s 90us/step - loss: 1.4458 - acc: 0.4868\n",
            "Epoch 26/300\n",
            "50000/50000 [==============================] - 5s 91us/step - loss: 1.4389 - acc: 0.4881\n",
            "Epoch 27/300\n",
            "50000/50000 [==============================] - 5s 90us/step - loss: 1.4323 - acc: 0.4926\n",
            "Epoch 28/300\n",
            "36224/50000 [====================>.........] - ETA: 1s - loss: 1.4257 - acc: 0.4929"
          ],
          "name": "stdout"
        },
        {
          "output_type": "stream",
          "text": [
            "50000/50000 [==============================] - 5s 91us/step - loss: 1.4265 - acc: 0.4939\n",
            "Epoch 29/300\n",
            "50000/50000 [==============================] - 5s 91us/step - loss: 1.4216 - acc: 0.4945\n",
            "Epoch 30/300\n",
            "50000/50000 [==============================] - 5s 91us/step - loss: 1.4148 - acc: 0.4983\n",
            "Epoch 31/300\n",
            "50000/50000 [==============================] - 5s 90us/step - loss: 1.4111 - acc: 0.5007\n",
            "Epoch 32/300\n",
            "35584/50000 [====================>.........] - ETA: 1s - loss: 1.4069 - acc: 0.5022"
          ],
          "name": "stdout"
        },
        {
          "output_type": "stream",
          "text": [
            "50000/50000 [==============================] - 5s 91us/step - loss: 1.4055 - acc: 0.5014\n",
            "Epoch 33/300\n",
            "50000/50000 [==============================] - 5s 91us/step - loss: 1.4007 - acc: 0.5048\n",
            "Epoch 34/300\n",
            "50000/50000 [==============================] - 5s 91us/step - loss: 1.3964 - acc: 0.5046\n",
            "Epoch 35/300\n",
            "50000/50000 [==============================] - 5s 91us/step - loss: 1.3920 - acc: 0.5064\n",
            "Epoch 36/300\n",
            "34048/50000 [===================>..........] - ETA: 1s - loss: 1.3857 - acc: 0.5086"
          ],
          "name": "stdout"
        },
        {
          "output_type": "stream",
          "text": [
            "50000/50000 [==============================] - 5s 91us/step - loss: 1.3869 - acc: 0.5087\n",
            "Epoch 37/300\n",
            "50000/50000 [==============================] - 5s 91us/step - loss: 1.3829 - acc: 0.5096\n",
            "Epoch 38/300\n",
            "50000/50000 [==============================] - 5s 90us/step - loss: 1.3795 - acc: 0.5109\n",
            "Epoch 39/300\n",
            "50000/50000 [==============================] - 5s 91us/step - loss: 1.3749 - acc: 0.5134\n",
            "Epoch 40/300\n",
            "36096/50000 [====================>.........] - ETA: 1s - loss: 1.3772 - acc: 0.5127"
          ],
          "name": "stdout"
        },
        {
          "output_type": "stream",
          "text": [
            "50000/50000 [==============================] - 4s 90us/step - loss: 1.3713 - acc: 0.5145\n",
            "Epoch 41/300\n",
            "50000/50000 [==============================] - 4s 90us/step - loss: 1.3670 - acc: 0.5158\n",
            "Epoch 42/300\n",
            "50000/50000 [==============================] - 5s 91us/step - loss: 1.3633 - acc: 0.5181\n",
            "Epoch 43/300\n",
            "50000/50000 [==============================] - 4s 90us/step - loss: 1.3600 - acc: 0.5190\n",
            "Epoch 44/300\n",
            "36096/50000 [====================>.........] - ETA: 1s - loss: 1.3530 - acc: 0.5209"
          ],
          "name": "stdout"
        },
        {
          "output_type": "stream",
          "text": [
            "50000/50000 [==============================] - 5s 90us/step - loss: 1.3563 - acc: 0.5200\n",
            "Epoch 45/300\n",
            "50000/50000 [==============================] - 5s 91us/step - loss: 1.3517 - acc: 0.5227\n",
            "Epoch 46/300\n",
            "50000/50000 [==============================] - 5s 90us/step - loss: 1.3486 - acc: 0.5243\n",
            "Epoch 47/300\n",
            "50000/50000 [==============================] - 5s 90us/step - loss: 1.3458 - acc: 0.5247\n",
            "Epoch 48/300\n",
            "35712/50000 [====================>.........] - ETA: 1s - loss: 1.3414 - acc: 0.5260"
          ],
          "name": "stdout"
        },
        {
          "output_type": "stream",
          "text": [
            "50000/50000 [==============================] - 4s 90us/step - loss: 1.3417 - acc: 0.5262\n",
            "Epoch 49/300\n",
            "50000/50000 [==============================] - 5s 90us/step - loss: 1.3385 - acc: 0.5289\n",
            "Epoch 50/300\n",
            "50000/50000 [==============================] - 5s 90us/step - loss: 1.3360 - acc: 0.5299\n",
            "Epoch 51/300\n",
            "50000/50000 [==============================] - 4s 90us/step - loss: 1.3315 - acc: 0.5308\n",
            "Epoch 52/300\n",
            "35968/50000 [====================>.........] - ETA: 1s - loss: 1.3319 - acc: 0.5329"
          ],
          "name": "stdout"
        },
        {
          "output_type": "stream",
          "text": [
            "50000/50000 [==============================] - 4s 90us/step - loss: 1.3294 - acc: 0.5336\n",
            "Epoch 53/300\n",
            "50000/50000 [==============================] - 4s 90us/step - loss: 1.3266 - acc: 0.5316\n",
            "Epoch 54/300\n",
            "50000/50000 [==============================] - 5s 90us/step - loss: 1.3233 - acc: 0.5341\n",
            "Epoch 55/300\n",
            "50000/50000 [==============================] - 5s 91us/step - loss: 1.3196 - acc: 0.5352\n",
            "Epoch 56/300\n",
            "34688/50000 [===================>..........] - ETA: 1s - loss: 1.3148 - acc: 0.5367"
          ],
          "name": "stdout"
        },
        {
          "output_type": "stream",
          "text": [
            "50000/50000 [==============================] - 5s 91us/step - loss: 1.3169 - acc: 0.5361\n",
            "Epoch 57/300\n",
            "50000/50000 [==============================] - 5s 91us/step - loss: 1.3136 - acc: 0.5386\n",
            "Epoch 58/300\n",
            "50000/50000 [==============================] - 5s 90us/step - loss: 1.3101 - acc: 0.5389\n",
            "Epoch 59/300\n",
            "50000/50000 [==============================] - 5s 91us/step - loss: 1.3092 - acc: 0.5389\n",
            "Epoch 60/300\n",
            "34688/50000 [===================>..........] - ETA: 1s - loss: 1.3027 - acc: 0.5383"
          ],
          "name": "stdout"
        },
        {
          "output_type": "stream",
          "text": [
            "50000/50000 [==============================] - 5s 90us/step - loss: 1.3045 - acc: 0.5397\n",
            "Epoch 61/300\n",
            "50000/50000 [==============================] - 4s 90us/step - loss: 1.3018 - acc: 0.5426\n",
            "Epoch 62/300\n",
            "50000/50000 [==============================] - 5s 91us/step - loss: 1.2995 - acc: 0.5430\n",
            "Epoch 63/300\n",
            "50000/50000 [==============================] - 5s 90us/step - loss: 1.2979 - acc: 0.5430\n",
            "Epoch 64/300\n",
            "35584/50000 [====================>.........] - ETA: 1s - loss: 1.2941 - acc: 0.5479"
          ],
          "name": "stdout"
        },
        {
          "output_type": "stream",
          "text": [
            "50000/50000 [==============================] - 5s 90us/step - loss: 1.2935 - acc: 0.5473\n",
            "Epoch 65/300\n",
            "50000/50000 [==============================] - 5s 91us/step - loss: 1.2914 - acc: 0.5470\n",
            "Epoch 66/300\n",
            "50000/50000 [==============================] - 4s 90us/step - loss: 1.2896 - acc: 0.5475\n",
            "Epoch 67/300\n",
            "50000/50000 [==============================] - 5s 90us/step - loss: 1.2880 - acc: 0.5473\n",
            "Epoch 68/300\n",
            "35584/50000 [====================>.........] - ETA: 1s - loss: 1.2859 - acc: 0.5495"
          ],
          "name": "stdout"
        },
        {
          "output_type": "stream",
          "text": [
            "50000/50000 [==============================] - 5s 90us/step - loss: 1.2854 - acc: 0.5496\n",
            "Epoch 69/300\n",
            "50000/50000 [==============================] - 4s 90us/step - loss: 1.2832 - acc: 0.5492\n",
            "Epoch 70/300\n",
            "50000/50000 [==============================] - 5s 90us/step - loss: 1.2793 - acc: 0.5510\n",
            "Epoch 71/300\n",
            "50000/50000 [==============================] - 4s 90us/step - loss: 1.2769 - acc: 0.5521\n",
            "Epoch 72/300\n",
            "35200/50000 [====================>.........] - ETA: 1s - loss: 1.2717 - acc: 0.5528"
          ],
          "name": "stdout"
        },
        {
          "output_type": "stream",
          "text": [
            "50000/50000 [==============================] - 4s 90us/step - loss: 1.2748 - acc: 0.5529\n",
            "Epoch 73/300\n",
            "50000/50000 [==============================] - 5s 90us/step - loss: 1.2728 - acc: 0.5532\n",
            "Epoch 74/300\n",
            "50000/50000 [==============================] - 4s 90us/step - loss: 1.2705 - acc: 0.5559\n",
            "Epoch 75/300\n",
            "50000/50000 [==============================] - 4s 90us/step - loss: 1.2683 - acc: 0.5547\n",
            "Epoch 76/300\n",
            "35072/50000 [====================>.........] - ETA: 1s - loss: 1.2699 - acc: 0.5549"
          ],
          "name": "stdout"
        },
        {
          "output_type": "stream",
          "text": [
            "50000/50000 [==============================] - 4s 89us/step - loss: 1.2666 - acc: 0.5559\n",
            "Epoch 77/300\n",
            "50000/50000 [==============================] - 4s 90us/step - loss: 1.2646 - acc: 0.5565\n",
            "Epoch 78/300\n",
            "50000/50000 [==============================] - 5s 91us/step - loss: 1.2608 - acc: 0.5578\n",
            "Epoch 79/300\n",
            "50000/50000 [==============================] - 5s 91us/step - loss: 1.2597 - acc: 0.5587\n",
            "Epoch 80/300\n",
            "34816/50000 [===================>..........] - ETA: 1s - loss: 1.2613 - acc: 0.5586"
          ],
          "name": "stdout"
        },
        {
          "output_type": "stream",
          "text": [
            "50000/50000 [==============================] - 5s 90us/step - loss: 1.2586 - acc: 0.5591\n",
            "Epoch 81/300\n",
            "50000/50000 [==============================] - 5s 90us/step - loss: 1.2562 - acc: 0.5601\n",
            "Epoch 82/300\n",
            "50000/50000 [==============================] - 4s 90us/step - loss: 1.2540 - acc: 0.5621\n",
            "Epoch 83/300\n",
            "50000/50000 [==============================] - 5s 90us/step - loss: 1.2509 - acc: 0.5618\n",
            "Epoch 84/300\n",
            "35456/50000 [====================>.........] - ETA: 1s - loss: 1.2529 - acc: 0.5603"
          ],
          "name": "stdout"
        },
        {
          "output_type": "stream",
          "text": [
            "50000/50000 [==============================] - 5s 90us/step - loss: 1.2501 - acc: 0.5612\n",
            "Epoch 85/300\n",
            "50000/50000 [==============================] - 4s 90us/step - loss: 1.2471 - acc: 0.5622\n",
            "Epoch 86/300\n",
            "50000/50000 [==============================] - 4s 90us/step - loss: 1.2462 - acc: 0.5640\n",
            "Epoch 87/300\n",
            "50000/50000 [==============================] - 4s 90us/step - loss: 1.2449 - acc: 0.5634\n",
            "Epoch 88/300\n",
            "35328/50000 [====================>.........] - ETA: 1s - loss: 1.2323 - acc: 0.5696"
          ],
          "name": "stdout"
        },
        {
          "output_type": "stream",
          "text": [
            "50000/50000 [==============================] - 5s 90us/step - loss: 1.2419 - acc: 0.5649\n",
            "Epoch 89/300\n",
            "50000/50000 [==============================] - 4s 90us/step - loss: 1.2395 - acc: 0.5655\n",
            "Epoch 90/300\n",
            "50000/50000 [==============================] - 5s 90us/step - loss: 1.2389 - acc: 0.5663\n",
            "Epoch 91/300\n",
            "50000/50000 [==============================] - 5s 90us/step - loss: 1.2360 - acc: 0.5675\n",
            "Epoch 92/300\n",
            "34816/50000 [===================>..........] - ETA: 1s - loss: 1.2278 - acc: 0.5684"
          ],
          "name": "stdout"
        },
        {
          "output_type": "stream",
          "text": [
            "50000/50000 [==============================] - 5s 91us/step - loss: 1.2333 - acc: 0.5686\n",
            "Epoch 93/300\n",
            "50000/50000 [==============================] - 5s 90us/step - loss: 1.2339 - acc: 0.5677\n",
            "Epoch 94/300\n",
            "50000/50000 [==============================] - 4s 89us/step - loss: 1.2319 - acc: 0.5687\n",
            "Epoch 95/300\n",
            "50000/50000 [==============================] - 4s 90us/step - loss: 1.2313 - acc: 0.5688\n",
            "Epoch 96/300\n",
            "35712/50000 [====================>.........] - ETA: 1s - loss: 1.2312 - acc: 0.5686"
          ],
          "name": "stdout"
        },
        {
          "output_type": "stream",
          "text": [
            "50000/50000 [==============================] - 4s 90us/step - loss: 1.2280 - acc: 0.5715\n",
            "Epoch 97/300\n",
            "50000/50000 [==============================] - 4s 90us/step - loss: 1.2256 - acc: 0.5719\n",
            "Epoch 98/300\n",
            "50000/50000 [==============================] - 4s 90us/step - loss: 1.2241 - acc: 0.5712\n",
            "Epoch 99/300\n",
            "50000/50000 [==============================] - 4s 90us/step - loss: 1.2231 - acc: 0.5723\n",
            "Epoch 100/300\n",
            "35072/50000 [====================>.........] - ETA: 1s - loss: 1.2212 - acc: 0.5732"
          ],
          "name": "stdout"
        },
        {
          "output_type": "stream",
          "text": [
            "50000/50000 [==============================] - 5s 90us/step - loss: 1.2218 - acc: 0.5731\n",
            "Epoch 101/300\n",
            "50000/50000 [==============================] - 5s 91us/step - loss: 1.2195 - acc: 0.5745\n",
            "Epoch 102/300\n",
            "50000/50000 [==============================] - 5s 90us/step - loss: 1.2172 - acc: 0.5746\n",
            "Epoch 103/300\n",
            "50000/50000 [==============================] - 5s 90us/step - loss: 1.2165 - acc: 0.5747\n",
            "Epoch 104/300\n",
            "33920/50000 [===================>..........] - ETA: 1s - loss: 1.2121 - acc: 0.5750"
          ],
          "name": "stdout"
        },
        {
          "output_type": "stream",
          "text": [
            "50000/50000 [==============================] - 5s 91us/step - loss: 1.2145 - acc: 0.5752\n",
            "Epoch 105/300\n",
            "50000/50000 [==============================] - 4s 90us/step - loss: 1.2136 - acc: 0.5756\n",
            "Epoch 106/300\n",
            "50000/50000 [==============================] - 5s 90us/step - loss: 1.2117 - acc: 0.5776\n",
            "Epoch 107/300\n",
            "50000/50000 [==============================] - 4s 90us/step - loss: 1.2113 - acc: 0.5767\n",
            "Epoch 108/300\n",
            "33792/50000 [===================>..........] - ETA: 1s - loss: 1.2158 - acc: 0.5765"
          ],
          "name": "stdout"
        },
        {
          "output_type": "stream",
          "text": [
            "50000/50000 [==============================] - 4s 89us/step - loss: 1.2096 - acc: 0.5774\n",
            "Epoch 109/300\n",
            "50000/50000 [==============================] - 4s 89us/step - loss: 1.2071 - acc: 0.5785\n",
            "Epoch 110/300\n",
            "50000/50000 [==============================] - 4s 90us/step - loss: 1.2052 - acc: 0.5793\n",
            "Epoch 111/300\n",
            "50000/50000 [==============================] - 5s 90us/step - loss: 1.2060 - acc: 0.5782\n",
            "Epoch 112/300\n",
            "34944/50000 [===================>..........] - ETA: 1s - loss: 1.2031 - acc: 0.5780"
          ],
          "name": "stdout"
        },
        {
          "output_type": "stream",
          "text": [
            "50000/50000 [==============================] - 4s 90us/step - loss: 1.2048 - acc: 0.5785\n",
            "Epoch 113/300\n",
            "50000/50000 [==============================] - 5s 90us/step - loss: 1.2022 - acc: 0.5793\n",
            "Epoch 114/300\n",
            "50000/50000 [==============================] - 4s 90us/step - loss: 1.2009 - acc: 0.5804\n",
            "Epoch 115/300\n",
            "50000/50000 [==============================] - 5s 91us/step - loss: 1.1989 - acc: 0.5816\n",
            "Epoch 116/300\n",
            "34176/50000 [===================>..........] - ETA: 1s - loss: 1.1962 - acc: 0.5808"
          ],
          "name": "stdout"
        },
        {
          "output_type": "stream",
          "text": [
            "50000/50000 [==============================] - 5s 91us/step - loss: 1.1980 - acc: 0.5807\n",
            "Epoch 117/300\n",
            "50000/50000 [==============================] - 5s 91us/step - loss: 1.1961 - acc: 0.5819\n",
            "Epoch 118/300\n",
            "50000/50000 [==============================] - 5s 91us/step - loss: 1.1945 - acc: 0.5816\n",
            "Epoch 119/300\n",
            "50000/50000 [==============================] - 5s 91us/step - loss: 1.1932 - acc: 0.5825\n",
            "Epoch 120/300\n",
            "33536/50000 [===================>..........] - ETA: 1s - loss: 1.1979 - acc: 0.5818"
          ],
          "name": "stdout"
        },
        {
          "output_type": "stream",
          "text": [
            "50000/50000 [==============================] - 5s 90us/step - loss: 1.1920 - acc: 0.5834\n",
            "Epoch 121/300\n",
            "50000/50000 [==============================] - 4s 90us/step - loss: 1.1907 - acc: 0.5843\n",
            "Epoch 122/300\n",
            "50000/50000 [==============================] - 4s 90us/step - loss: 1.1893 - acc: 0.5846\n",
            "Epoch 123/300\n",
            "50000/50000 [==============================] - 5s 90us/step - loss: 1.1872 - acc: 0.5853\n",
            "Epoch 124/300\n",
            "34304/50000 [===================>..........] - ETA: 1s - loss: 1.1789 - acc: 0.5892"
          ],
          "name": "stdout"
        },
        {
          "output_type": "stream",
          "text": [
            "50000/50000 [==============================] - 4s 90us/step - loss: 1.1871 - acc: 0.5856\n",
            "Epoch 125/300\n",
            "50000/50000 [==============================] - 5s 90us/step - loss: 1.1856 - acc: 0.5848\n",
            "Epoch 126/300\n",
            "50000/50000 [==============================] - 5s 90us/step - loss: 1.1832 - acc: 0.5853\n",
            "Epoch 127/300\n",
            "50000/50000 [==============================] - 4s 90us/step - loss: 1.1833 - acc: 0.5858\n",
            "Epoch 128/300\n",
            "33792/50000 [===================>..........] - ETA: 1s - loss: 1.1821 - acc: 0.5868"
          ],
          "name": "stdout"
        },
        {
          "output_type": "stream",
          "text": [
            "50000/50000 [==============================] - 5s 90us/step - loss: 1.1825 - acc: 0.5870\n",
            "Epoch 129/300\n",
            "50000/50000 [==============================] - 4s 89us/step - loss: 1.1816 - acc: 0.5883\n",
            "Epoch 130/300\n",
            "50000/50000 [==============================] - 5s 91us/step - loss: 1.1788 - acc: 0.5884\n",
            "Epoch 131/300\n",
            "50000/50000 [==============================] - 5s 90us/step - loss: 1.1779 - acc: 0.5897\n",
            "Epoch 132/300\n",
            "34176/50000 [===================>..........] - ETA: 1s - loss: 1.1722 - acc: 0.5918"
          ],
          "name": "stdout"
        },
        {
          "output_type": "stream",
          "text": [
            "50000/50000 [==============================] - 4s 90us/step - loss: 1.1763 - acc: 0.5889\n",
            "Epoch 133/300\n",
            "50000/50000 [==============================] - 5s 90us/step - loss: 1.1761 - acc: 0.5892\n",
            "Epoch 134/300\n",
            "50000/50000 [==============================] - 4s 89us/step - loss: 1.1740 - acc: 0.5899\n",
            "Epoch 135/300\n",
            "50000/50000 [==============================] - 5s 90us/step - loss: 1.1729 - acc: 0.5887\n",
            "Epoch 136/300\n",
            "34176/50000 [===================>..........] - ETA: 1s - loss: 1.1715 - acc: 0.5911"
          ],
          "name": "stdout"
        },
        {
          "output_type": "stream",
          "text": [
            "50000/50000 [==============================] - 4s 90us/step - loss: 1.1718 - acc: 0.5908\n",
            "Epoch 137/300\n",
            "50000/50000 [==============================] - 4s 90us/step - loss: 1.1696 - acc: 0.5925\n",
            "Epoch 138/300\n",
            "50000/50000 [==============================] - 4s 90us/step - loss: 1.1692 - acc: 0.5915\n",
            "Epoch 139/300\n",
            "50000/50000 [==============================] - 5s 90us/step - loss: 1.1688 - acc: 0.5926\n",
            "Epoch 140/300\n",
            "34304/50000 [===================>..........] - ETA: 1s - loss: 1.1656 - acc: 0.5933"
          ],
          "name": "stdout"
        },
        {
          "output_type": "stream",
          "text": [
            "50000/50000 [==============================] - 5s 90us/step - loss: 1.1661 - acc: 0.5927\n",
            "Epoch 141/300\n",
            "50000/50000 [==============================] - 5s 91us/step - loss: 1.1652 - acc: 0.5928\n",
            "Epoch 142/300\n",
            "50000/50000 [==============================] - 5s 91us/step - loss: 1.1643 - acc: 0.5931\n",
            "Epoch 143/300\n",
            "50000/50000 [==============================] - 5s 90us/step - loss: 1.1632 - acc: 0.5936\n",
            "Epoch 144/300\n",
            "34816/50000 [===================>..........] - ETA: 1s - loss: 1.1675 - acc: 0.5935"
          ],
          "name": "stdout"
        },
        {
          "output_type": "stream",
          "text": [
            "50000/50000 [==============================] - 5s 91us/step - loss: 1.1626 - acc: 0.5944\n",
            "Epoch 145/300\n",
            "50000/50000 [==============================] - 4s 90us/step - loss: 1.1619 - acc: 0.5950\n",
            "Epoch 146/300\n",
            "50000/50000 [==============================] - 4s 90us/step - loss: 1.1594 - acc: 0.5946\n",
            "Epoch 147/300\n",
            "50000/50000 [==============================] - 4s 90us/step - loss: 1.1596 - acc: 0.5950\n",
            "Epoch 148/300\n",
            "35456/50000 [====================>.........] - ETA: 1s - loss: 1.1507 - acc: 0.5985"
          ],
          "name": "stdout"
        },
        {
          "output_type": "stream",
          "text": [
            "50000/50000 [==============================] - 5s 90us/step - loss: 1.1577 - acc: 0.5966\n",
            "Epoch 149/300\n",
            "50000/50000 [==============================] - 5s 90us/step - loss: 1.1567 - acc: 0.5968\n",
            "Epoch 150/300\n",
            "50000/50000 [==============================] - 5s 90us/step - loss: 1.1557 - acc: 0.5970\n",
            "Epoch 151/300\n",
            "50000/50000 [==============================] - 5s 91us/step - loss: 1.1548 - acc: 0.5962\n",
            "Epoch 152/300\n",
            "34816/50000 [===================>..........] - ETA: 1s - loss: 1.1593 - acc: 0.5939"
          ],
          "name": "stdout"
        },
        {
          "output_type": "stream",
          "text": [
            "50000/50000 [==============================] - 5s 90us/step - loss: 1.1542 - acc: 0.5963\n",
            "Epoch 153/300\n",
            "50000/50000 [==============================] - 5s 91us/step - loss: 1.1523 - acc: 0.5970\n",
            "Epoch 154/300\n",
            "50000/50000 [==============================] - 4s 90us/step - loss: 1.1527 - acc: 0.5975\n",
            "Epoch 155/300\n",
            "50000/50000 [==============================] - 4s 90us/step - loss: 1.1503 - acc: 0.5981\n",
            "Epoch 156/300\n",
            "33408/50000 [===================>..........] - ETA: 1s - loss: 1.1543 - acc: 0.5963"
          ],
          "name": "stdout"
        },
        {
          "output_type": "stream",
          "text": [
            "50000/50000 [==============================] - 4s 90us/step - loss: 1.1506 - acc: 0.5983\n",
            "Epoch 157/300\n",
            "50000/50000 [==============================] - 4s 89us/step - loss: 1.1482 - acc: 0.5972\n",
            "Epoch 158/300\n",
            "50000/50000 [==============================] - 5s 91us/step - loss: 1.1479 - acc: 0.5995\n",
            "Epoch 159/300\n",
            "50000/50000 [==============================] - 5s 90us/step - loss: 1.1468 - acc: 0.5996\n",
            "Epoch 160/300\n",
            "34048/50000 [===================>..........] - ETA: 1s - loss: 1.1432 - acc: 0.5997"
          ],
          "name": "stdout"
        },
        {
          "output_type": "stream",
          "text": [
            "50000/50000 [==============================] - 4s 90us/step - loss: 1.1452 - acc: 0.6004\n",
            "Epoch 161/300\n",
            "50000/50000 [==============================] - 5s 90us/step - loss: 1.1449 - acc: 0.6011\n",
            "Epoch 162/300\n",
            "50000/50000 [==============================] - 4s 89us/step - loss: 1.1436 - acc: 0.6003\n",
            "Epoch 163/300\n",
            "50000/50000 [==============================] - 4s 90us/step - loss: 1.1416 - acc: 0.6019\n",
            "Epoch 164/300\n",
            "33664/50000 [===================>..........] - ETA: 1s - loss: 1.1380 - acc: 0.6023"
          ],
          "name": "stdout"
        },
        {
          "output_type": "stream",
          "text": [
            "50000/50000 [==============================] - 5s 91us/step - loss: 1.1428 - acc: 0.6015\n",
            "Epoch 165/300\n",
            "50000/50000 [==============================] - 4s 90us/step - loss: 1.1409 - acc: 0.6004\n",
            "Epoch 166/300\n",
            "50000/50000 [==============================] - 4s 90us/step - loss: 1.1398 - acc: 0.6033\n",
            "Epoch 167/300\n",
            "50000/50000 [==============================] - 5s 90us/step - loss: 1.1383 - acc: 0.6019\n",
            "Epoch 168/300\n",
            "34304/50000 [===================>..........] - ETA: 1s - loss: 1.1407 - acc: 0.6028"
          ],
          "name": "stdout"
        },
        {
          "output_type": "stream",
          "text": [
            "50000/50000 [==============================] - 4s 89us/step - loss: 1.1373 - acc: 0.6043\n",
            "Epoch 169/300\n",
            "50000/50000 [==============================] - 5s 91us/step - loss: 1.1365 - acc: 0.6030\n",
            "Epoch 170/300\n",
            "50000/50000 [==============================] - 5s 91us/step - loss: 1.1348 - acc: 0.6025\n",
            "Epoch 171/300\n",
            "50000/50000 [==============================] - 5s 90us/step - loss: 1.1338 - acc: 0.6046\n",
            "Epoch 172/300\n",
            "34432/50000 [===================>..........] - ETA: 1s - loss: 1.1307 - acc: 0.6041"
          ],
          "name": "stdout"
        },
        {
          "output_type": "stream",
          "text": [
            "50000/50000 [==============================] - 5s 90us/step - loss: 1.1324 - acc: 0.6050\n",
            "Epoch 173/300\n",
            "50000/50000 [==============================] - 5s 91us/step - loss: 1.1323 - acc: 0.6037\n",
            "Epoch 174/300\n",
            "50000/50000 [==============================] - 5s 91us/step - loss: 1.1324 - acc: 0.6050\n",
            "Epoch 175/300\n",
            "50000/50000 [==============================] - 5s 90us/step - loss: 1.1319 - acc: 0.6058\n",
            "Epoch 176/300\n",
            "33792/50000 [===================>..........] - ETA: 1s - loss: 1.1332 - acc: 0.6031"
          ],
          "name": "stdout"
        },
        {
          "output_type": "stream",
          "text": [
            "50000/50000 [==============================] - 5s 91us/step - loss: 1.1312 - acc: 0.6036\n",
            "Epoch 177/300\n",
            "50000/50000 [==============================] - 5s 91us/step - loss: 1.1291 - acc: 0.6060\n",
            "Epoch 178/300\n",
            "50000/50000 [==============================] - 5s 91us/step - loss: 1.1291 - acc: 0.6054\n",
            "Epoch 179/300\n",
            "50000/50000 [==============================] - 5s 90us/step - loss: 1.1264 - acc: 0.6059\n",
            "Epoch 180/300\n",
            "34304/50000 [===================>..........] - ETA: 1s - loss: 1.1242 - acc: 0.6086"
          ],
          "name": "stdout"
        },
        {
          "output_type": "stream",
          "text": [
            "50000/50000 [==============================] - 4s 90us/step - loss: 1.1272 - acc: 0.6069\n",
            "Epoch 181/300\n",
            "50000/50000 [==============================] - 4s 89us/step - loss: 1.1259 - acc: 0.6063\n",
            "Epoch 182/300\n",
            "50000/50000 [==============================] - 5s 90us/step - loss: 1.1253 - acc: 0.6072\n",
            "Epoch 183/300\n",
            "50000/50000 [==============================] - 5s 91us/step - loss: 1.1238 - acc: 0.6062\n",
            "Epoch 184/300\n",
            "32640/50000 [==================>...........] - ETA: 1s - loss: 1.1260 - acc: 0.6088"
          ],
          "name": "stdout"
        },
        {
          "output_type": "stream",
          "text": [
            "50000/50000 [==============================] - 5s 91us/step - loss: 1.1231 - acc: 0.6094\n",
            "Epoch 185/300\n",
            "50000/50000 [==============================] - 5s 91us/step - loss: 1.1218 - acc: 0.6087\n",
            "Epoch 186/300\n",
            "50000/50000 [==============================] - 5s 91us/step - loss: 1.1198 - acc: 0.6082\n",
            "Epoch 187/300\n",
            "50000/50000 [==============================] - 5s 91us/step - loss: 1.1200 - acc: 0.6075\n",
            "Epoch 188/300\n",
            "32896/50000 [==================>...........] - ETA: 1s - loss: 1.1159 - acc: 0.6090"
          ],
          "name": "stdout"
        },
        {
          "output_type": "stream",
          "text": [
            "50000/50000 [==============================] - 5s 91us/step - loss: 1.1189 - acc: 0.6082\n",
            "Epoch 189/300\n",
            "50000/50000 [==============================] - 5s 90us/step - loss: 1.1179 - acc: 0.6099\n",
            "Epoch 190/300\n",
            "50000/50000 [==============================] - 5s 91us/step - loss: 1.1178 - acc: 0.6098\n",
            "Epoch 191/300\n",
            "50000/50000 [==============================] - 5s 90us/step - loss: 1.1187 - acc: 0.6077\n",
            "Epoch 192/300\n",
            "34688/50000 [===================>..........] - ETA: 1s - loss: 1.1159 - acc: 0.6105"
          ],
          "name": "stdout"
        },
        {
          "output_type": "stream",
          "text": [
            "50000/50000 [==============================] - 5s 91us/step - loss: 1.1149 - acc: 0.6108\n",
            "Epoch 193/300\n",
            "50000/50000 [==============================] - 5s 91us/step - loss: 1.1147 - acc: 0.6111\n",
            "Epoch 194/300\n",
            "50000/50000 [==============================] - 5s 91us/step - loss: 1.1151 - acc: 0.6102\n",
            "Epoch 195/300\n",
            "50000/50000 [==============================] - 5s 91us/step - loss: 1.1137 - acc: 0.6113\n",
            "Epoch 196/300\n",
            "34176/50000 [===================>..........] - ETA: 1s - loss: 1.1140 - acc: 0.6107"
          ],
          "name": "stdout"
        },
        {
          "output_type": "stream",
          "text": [
            "50000/50000 [==============================] - 5s 91us/step - loss: 1.1134 - acc: 0.6101\n",
            "Epoch 197/300\n",
            "50000/50000 [==============================] - 5s 91us/step - loss: 1.1122 - acc: 0.6117\n",
            "Epoch 198/300\n",
            "50000/50000 [==============================] - 5s 91us/step - loss: 1.1119 - acc: 0.6109\n",
            "Epoch 199/300\n",
            "50000/50000 [==============================] - 5s 91us/step - loss: 1.1120 - acc: 0.6116\n",
            "Epoch 200/300\n",
            "34304/50000 [===================>..........] - ETA: 1s - loss: 1.1090 - acc: 0.6140"
          ],
          "name": "stdout"
        },
        {
          "output_type": "stream",
          "text": [
            "50000/50000 [==============================] - 5s 91us/step - loss: 1.1097 - acc: 0.6129\n",
            "Epoch 201/300\n",
            "50000/50000 [==============================] - 5s 91us/step - loss: 1.1087 - acc: 0.6128\n",
            "Epoch 202/300\n",
            "50000/50000 [==============================] - 5s 91us/step - loss: 1.1070 - acc: 0.6135\n",
            "Epoch 203/300\n",
            "50000/50000 [==============================] - 5s 91us/step - loss: 1.1069 - acc: 0.6126\n",
            "Epoch 204/300\n",
            "34048/50000 [===================>..........] - ETA: 1s - loss: 1.1083 - acc: 0.6103"
          ],
          "name": "stdout"
        },
        {
          "output_type": "stream",
          "text": [
            "50000/50000 [==============================] - 5s 91us/step - loss: 1.1073 - acc: 0.6126\n",
            "Epoch 205/300\n",
            "50000/50000 [==============================] - 5s 91us/step - loss: 1.1054 - acc: 0.6130\n",
            "Epoch 206/300\n",
            "50000/50000 [==============================] - 5s 91us/step - loss: 1.1047 - acc: 0.6144\n",
            "Epoch 207/300\n",
            "50000/50000 [==============================] - 5s 92us/step - loss: 1.1051 - acc: 0.6133\n",
            "Epoch 208/300\n",
            "32896/50000 [==================>...........] - ETA: 1s - loss: 1.1055 - acc: 0.6156"
          ],
          "name": "stdout"
        },
        {
          "output_type": "stream",
          "text": [
            "50000/50000 [==============================] - 5s 91us/step - loss: 1.1034 - acc: 0.6146\n",
            "Epoch 209/300\n",
            "50000/50000 [==============================] - 5s 93us/step - loss: 1.1019 - acc: 0.6136\n",
            "Epoch 210/300\n",
            "50000/50000 [==============================] - 5s 91us/step - loss: 1.1026 - acc: 0.6159\n",
            "Epoch 211/300\n",
            "50000/50000 [==============================] - 5s 92us/step - loss: 1.1012 - acc: 0.6159\n",
            "Epoch 212/300\n",
            "32512/50000 [==================>...........] - ETA: 1s - loss: 1.0959 - acc: 0.6184"
          ],
          "name": "stdout"
        },
        {
          "output_type": "stream",
          "text": [
            "50000/50000 [==============================] - 5s 92us/step - loss: 1.1003 - acc: 0.6161\n",
            "Epoch 213/300\n",
            "50000/50000 [==============================] - 5s 91us/step - loss: 1.1001 - acc: 0.6174\n",
            "Epoch 214/300\n",
            "50000/50000 [==============================] - 5s 91us/step - loss: 1.0994 - acc: 0.6153\n",
            "Epoch 215/300\n",
            "50000/50000 [==============================] - 5s 92us/step - loss: 1.0975 - acc: 0.6168\n",
            "Epoch 216/300\n",
            "32128/50000 [==================>...........] - ETA: 1s - loss: 1.0975 - acc: 0.6173"
          ],
          "name": "stdout"
        },
        {
          "output_type": "stream",
          "text": [
            "50000/50000 [==============================] - 5s 92us/step - loss: 1.0974 - acc: 0.6169\n",
            "Epoch 217/300\n",
            "50000/50000 [==============================] - 5s 91us/step - loss: 1.0971 - acc: 0.6170\n",
            "Epoch 218/300\n",
            "50000/50000 [==============================] - 5s 91us/step - loss: 1.0958 - acc: 0.6172\n",
            "Epoch 219/300\n",
            "50000/50000 [==============================] - 5s 92us/step - loss: 1.0943 - acc: 0.6178\n",
            "Epoch 220/300\n",
            "32640/50000 [==================>...........] - ETA: 1s - loss: 1.0949 - acc: 0.6168"
          ],
          "name": "stdout"
        },
        {
          "output_type": "stream",
          "text": [
            "50000/50000 [==============================] - 5s 91us/step - loss: 1.0952 - acc: 0.6178\n",
            "Epoch 221/300\n",
            "50000/50000 [==============================] - 5s 92us/step - loss: 1.0937 - acc: 0.6175\n",
            "Epoch 222/300\n",
            "50000/50000 [==============================] - 4s 90us/step - loss: 1.0923 - acc: 0.6185\n",
            "Epoch 223/300\n",
            "50000/50000 [==============================] - 5s 91us/step - loss: 1.0928 - acc: 0.6183\n",
            "Epoch 224/300\n",
            "33664/50000 [===================>..........] - ETA: 1s - loss: 1.0900 - acc: 0.6205"
          ],
          "name": "stdout"
        },
        {
          "output_type": "stream",
          "text": [
            "50000/50000 [==============================] - 5s 92us/step - loss: 1.0915 - acc: 0.6185\n",
            "Epoch 225/300\n",
            "50000/50000 [==============================] - 5s 91us/step - loss: 1.0915 - acc: 0.6186\n",
            "Epoch 226/300\n",
            "50000/50000 [==============================] - 5s 91us/step - loss: 1.0903 - acc: 0.6181\n",
            "Epoch 227/300\n",
            "50000/50000 [==============================] - 5s 91us/step - loss: 1.0887 - acc: 0.6203\n",
            "Epoch 228/300\n",
            "33536/50000 [===================>..........] - ETA: 1s - loss: 1.0828 - acc: 0.6212"
          ],
          "name": "stdout"
        },
        {
          "output_type": "stream",
          "text": [
            "50000/50000 [==============================] - 5s 91us/step - loss: 1.0884 - acc: 0.6197\n",
            "Epoch 229/300\n",
            "50000/50000 [==============================] - 5s 91us/step - loss: 1.0873 - acc: 0.6197\n",
            "Epoch 230/300\n",
            "50000/50000 [==============================] - 5s 91us/step - loss: 1.0868 - acc: 0.6191\n",
            "Epoch 231/300\n",
            "50000/50000 [==============================] - 5s 91us/step - loss: 1.0864 - acc: 0.6195\n",
            "Epoch 232/300\n",
            "33920/50000 [===================>..........] - ETA: 1s - loss: 1.0829 - acc: 0.6219"
          ],
          "name": "stdout"
        },
        {
          "output_type": "stream",
          "text": [
            "50000/50000 [==============================] - 5s 91us/step - loss: 1.0864 - acc: 0.6204\n",
            "Epoch 233/300\n",
            "50000/50000 [==============================] - 5s 90us/step - loss: 1.0848 - acc: 0.6213\n",
            "Epoch 234/300\n",
            "50000/50000 [==============================] - 5s 91us/step - loss: 1.0845 - acc: 0.6210\n",
            "Epoch 235/300\n",
            "50000/50000 [==============================] - 5s 90us/step - loss: 1.0822 - acc: 0.6222\n",
            "Epoch 236/300\n",
            "33664/50000 [===================>..........] - ETA: 1s - loss: 1.0864 - acc: 0.6203"
          ],
          "name": "stdout"
        },
        {
          "output_type": "stream",
          "text": [
            "50000/50000 [==============================] - 5s 90us/step - loss: 1.0834 - acc: 0.6216\n",
            "Epoch 237/300\n",
            "50000/50000 [==============================] - 5s 91us/step - loss: 1.0831 - acc: 0.6211\n",
            "Epoch 238/300\n",
            "50000/50000 [==============================] - 4s 90us/step - loss: 1.0835 - acc: 0.6232\n",
            "Epoch 239/300\n",
            "50000/50000 [==============================] - 4s 89us/step - loss: 1.0829 - acc: 0.6230\n",
            "Epoch 240/300\n",
            "32896/50000 [==================>...........] - ETA: 1s - loss: 1.0793 - acc: 0.6231"
          ],
          "name": "stdout"
        },
        {
          "output_type": "stream",
          "text": [
            "50000/50000 [==============================] - 5s 93us/step - loss: 1.0805 - acc: 0.6226\n",
            "Epoch 241/300\n",
            "50000/50000 [==============================] - 5s 91us/step - loss: 1.0795 - acc: 0.6232\n",
            "Epoch 242/300\n",
            "50000/50000 [==============================] - 4s 90us/step - loss: 1.0785 - acc: 0.6237\n",
            "Epoch 243/300\n",
            "50000/50000 [==============================] - 5s 91us/step - loss: 1.0780 - acc: 0.6228\n",
            "Epoch 244/300\n",
            "33536/50000 [===================>..........] - ETA: 1s - loss: 1.0777 - acc: 0.6211"
          ],
          "name": "stdout"
        },
        {
          "output_type": "stream",
          "text": [
            "50000/50000 [==============================] - 5s 92us/step - loss: 1.0786 - acc: 0.6224\n",
            "Epoch 245/300\n",
            "50000/50000 [==============================] - 5s 90us/step - loss: 1.0781 - acc: 0.6235\n",
            "Epoch 246/300\n",
            "50000/50000 [==============================] - 5s 90us/step - loss: 1.0760 - acc: 0.6246\n",
            "Epoch 247/300\n",
            "50000/50000 [==============================] - 5s 91us/step - loss: 1.0761 - acc: 0.6236\n",
            "Epoch 248/300\n",
            "34816/50000 [===================>..........] - ETA: 1s - loss: 1.0757 - acc: 0.6203"
          ],
          "name": "stdout"
        },
        {
          "output_type": "stream",
          "text": [
            "50000/50000 [==============================] - 5s 91us/step - loss: 1.0750 - acc: 0.6232\n",
            "Epoch 249/300\n",
            "50000/50000 [==============================] - 5s 91us/step - loss: 1.0763 - acc: 0.6243\n",
            "Epoch 250/300\n",
            "50000/50000 [==============================] - 5s 90us/step - loss: 1.0749 - acc: 0.6248\n",
            "Epoch 251/300\n",
            "50000/50000 [==============================] - 5s 91us/step - loss: 1.0729 - acc: 0.6238\n",
            "Epoch 252/300\n",
            "34816/50000 [===================>..........] - ETA: 1s - loss: 1.0729 - acc: 0.6232"
          ],
          "name": "stdout"
        },
        {
          "output_type": "stream",
          "text": [
            "50000/50000 [==============================] - 5s 91us/step - loss: 1.0719 - acc: 0.6247\n",
            "Epoch 253/300\n",
            "50000/50000 [==============================] - 5s 91us/step - loss: 1.0728 - acc: 0.6253\n",
            "Epoch 254/300\n",
            "50000/50000 [==============================] - 5s 91us/step - loss: 1.0710 - acc: 0.6264\n",
            "Epoch 255/300\n",
            "50000/50000 [==============================] - 5s 91us/step - loss: 1.0711 - acc: 0.6265\n",
            "Epoch 256/300\n",
            "33664/50000 [===================>..........] - ETA: 1s - loss: 1.0618 - acc: 0.6299"
          ],
          "name": "stdout"
        },
        {
          "output_type": "stream",
          "text": [
            "50000/50000 [==============================] - 5s 90us/step - loss: 1.0704 - acc: 0.6264\n",
            "Epoch 257/300\n",
            "50000/50000 [==============================] - 5s 91us/step - loss: 1.0696 - acc: 0.6268\n",
            "Epoch 258/300\n",
            "50000/50000 [==============================] - 5s 91us/step - loss: 1.0690 - acc: 0.6282\n",
            "Epoch 259/300\n",
            "50000/50000 [==============================] - 5s 91us/step - loss: 1.0692 - acc: 0.6280\n",
            "Epoch 260/300\n",
            "33024/50000 [==================>...........] - ETA: 1s - loss: 1.0620 - acc: 0.6305"
          ],
          "name": "stdout"
        },
        {
          "output_type": "stream",
          "text": [
            "50000/50000 [==============================] - 5s 91us/step - loss: 1.0678 - acc: 0.6281\n",
            "Epoch 261/300\n",
            "50000/50000 [==============================] - 5s 91us/step - loss: 1.0668 - acc: 0.6282\n",
            "Epoch 262/300\n",
            "50000/50000 [==============================] - 5s 91us/step - loss: 1.0677 - acc: 0.6274\n",
            "Epoch 263/300\n",
            "50000/50000 [==============================] - 5s 91us/step - loss: 1.0652 - acc: 0.6276\n",
            "Epoch 264/300\n",
            "34176/50000 [===================>..........] - ETA: 1s - loss: 1.0590 - acc: 0.6303"
          ],
          "name": "stdout"
        },
        {
          "output_type": "stream",
          "text": [
            "50000/50000 [==============================] - 5s 91us/step - loss: 1.0649 - acc: 0.6280\n",
            "Epoch 265/300\n",
            "50000/50000 [==============================] - 5s 91us/step - loss: 1.0650 - acc: 0.6287\n",
            "Epoch 266/300\n",
            "50000/50000 [==============================] - 5s 91us/step - loss: 1.0653 - acc: 0.6286\n",
            "Epoch 267/300\n",
            "50000/50000 [==============================] - 5s 91us/step - loss: 1.0634 - acc: 0.6273\n",
            "Epoch 268/300\n",
            "34688/50000 [===================>..........] - ETA: 1s - loss: 1.0634 - acc: 0.6281"
          ],
          "name": "stdout"
        },
        {
          "output_type": "stream",
          "text": [
            "50000/50000 [==============================] - 5s 91us/step - loss: 1.0629 - acc: 0.6286\n",
            "Epoch 269/300\n",
            "50000/50000 [==============================] - 5s 90us/step - loss: 1.0629 - acc: 0.6292\n",
            "Epoch 270/300\n",
            "50000/50000 [==============================] - 5s 91us/step - loss: 1.0615 - acc: 0.6303\n",
            "Epoch 271/300\n",
            "50000/50000 [==============================] - 5s 91us/step - loss: 1.0611 - acc: 0.6290\n",
            "Epoch 272/300\n",
            "34176/50000 [===================>..........] - ETA: 1s - loss: 1.0641 - acc: 0.6290"
          ],
          "name": "stdout"
        },
        {
          "output_type": "stream",
          "text": [
            "50000/50000 [==============================] - 5s 90us/step - loss: 1.0620 - acc: 0.6301\n",
            "Epoch 273/300\n",
            "50000/50000 [==============================] - 5s 90us/step - loss: 1.0609 - acc: 0.6290\n",
            "Epoch 274/300\n",
            "50000/50000 [==============================] - 4s 90us/step - loss: 1.0596 - acc: 0.6301\n",
            "Epoch 275/300\n",
            "50000/50000 [==============================] - 4s 89us/step - loss: 1.0586 - acc: 0.6313\n",
            "Epoch 276/300\n",
            "34176/50000 [===================>..........] - ETA: 1s - loss: 1.0547 - acc: 0.6314"
          ],
          "name": "stdout"
        },
        {
          "output_type": "stream",
          "text": [
            "50000/50000 [==============================] - 4s 90us/step - loss: 1.0589 - acc: 0.6306\n",
            "Epoch 277/300\n",
            "50000/50000 [==============================] - 5s 90us/step - loss: 1.0586 - acc: 0.6305\n",
            "Epoch 278/300\n",
            "50000/50000 [==============================] - 5s 91us/step - loss: 1.0562 - acc: 0.6315\n",
            "Epoch 279/300\n",
            "50000/50000 [==============================] - 5s 91us/step - loss: 1.0569 - acc: 0.6312\n",
            "Epoch 280/300\n",
            "34176/50000 [===================>..........] - ETA: 1s - loss: 1.0559 - acc: 0.6323"
          ],
          "name": "stdout"
        },
        {
          "output_type": "stream",
          "text": [
            "50000/50000 [==============================] - 5s 91us/step - loss: 1.0569 - acc: 0.6320\n",
            "Epoch 281/300\n",
            "50000/50000 [==============================] - 5s 92us/step - loss: 1.0549 - acc: 0.6326\n",
            "Epoch 282/300\n",
            "50000/50000 [==============================] - 5s 91us/step - loss: 1.0565 - acc: 0.6322\n",
            "Epoch 283/300\n",
            "50000/50000 [==============================] - 5s 91us/step - loss: 1.0543 - acc: 0.6319\n",
            "Epoch 284/300\n",
            "33152/50000 [==================>...........] - ETA: 1s - loss: 1.0509 - acc: 0.6326"
          ],
          "name": "stdout"
        },
        {
          "output_type": "stream",
          "text": [
            "50000/50000 [==============================] - 5s 92us/step - loss: 1.0544 - acc: 0.6319\n",
            "Epoch 285/300\n",
            "50000/50000 [==============================] - 5s 91us/step - loss: 1.0541 - acc: 0.6325\n",
            "Epoch 286/300\n",
            "50000/50000 [==============================] - 5s 91us/step - loss: 1.0519 - acc: 0.6339\n",
            "Epoch 287/300\n",
            "50000/50000 [==============================] - 5s 90us/step - loss: 1.0522 - acc: 0.6329\n",
            "Epoch 288/300\n",
            "32384/50000 [==================>...........] - ETA: 1s - loss: 1.0524 - acc: 0.6319"
          ],
          "name": "stdout"
        },
        {
          "output_type": "stream",
          "text": [
            "50000/50000 [==============================] - 5s 91us/step - loss: 1.0510 - acc: 0.6333\n",
            "Epoch 289/300\n",
            "50000/50000 [==============================] - 5s 91us/step - loss: 1.0515 - acc: 0.6339\n",
            "Epoch 290/300\n",
            "50000/50000 [==============================] - 5s 92us/step - loss: 1.0507 - acc: 0.6335\n",
            "Epoch 291/300\n",
            "50000/50000 [==============================] - 5s 91us/step - loss: 1.0493 - acc: 0.6337\n",
            "Epoch 292/300\n",
            "34176/50000 [===================>..........] - ETA: 1s - loss: 1.0573 - acc: 0.6324"
          ],
          "name": "stdout"
        },
        {
          "output_type": "stream",
          "text": [
            "50000/50000 [==============================] - 5s 91us/step - loss: 1.0497 - acc: 0.6346\n",
            "Epoch 293/300\n",
            "50000/50000 [==============================] - 5s 91us/step - loss: 1.0500 - acc: 0.6344\n",
            "Epoch 294/300\n",
            "50000/50000 [==============================] - 5s 91us/step - loss: 1.0489 - acc: 0.6336\n",
            "Epoch 295/300\n",
            "50000/50000 [==============================] - 5s 91us/step - loss: 1.0480 - acc: 0.6332\n",
            "Epoch 296/300\n",
            "34176/50000 [===================>..........] - ETA: 1s - loss: 1.0460 - acc: 0.6327"
          ],
          "name": "stdout"
        },
        {
          "output_type": "stream",
          "text": [
            "50000/50000 [==============================] - 5s 92us/step - loss: 1.0476 - acc: 0.6336\n",
            "Epoch 297/300\n",
            "50000/50000 [==============================] - 5s 91us/step - loss: 1.0471 - acc: 0.6343\n",
            "Epoch 298/300\n",
            "50000/50000 [==============================] - 5s 91us/step - loss: 1.0474 - acc: 0.6350\n",
            "Epoch 299/300\n",
            "50000/50000 [==============================] - 5s 91us/step - loss: 1.0467 - acc: 0.6350\n",
            "Epoch 300/300\n",
            "34816/50000 [===================>..........] - ETA: 1s - loss: 1.0402 - acc: 0.6368"
          ],
          "name": "stdout"
        },
        {
          "output_type": "stream",
          "text": [
            "50000/50000 [==============================] - 5s 91us/step - loss: 1.0453 - acc: 0.6356\n"
          ],
          "name": "stdout"
        },
        {
          "output_type": "execute_result",
          "data": {
            "text/plain": [
              "<keras.callbacks.History at 0x7f2ede53cb38>"
            ]
          },
          "metadata": {
            "tags": []
          },
          "execution_count": 5
        }
      ]
    },
    {
      "metadata": {
        "id": "OVILxCviIowi",
        "colab_type": "text"
      },
      "cell_type": "markdown",
      "source": [
        "#Testing"
      ]
    },
    {
      "metadata": {
        "id": "8vp-Mv79Ilvu",
        "colab_type": "code",
        "colab": {
          "autoexec": {
            "startup": false,
            "wait_interval": 0
          },
          "base_uri": "https://localhost:8080/",
          "height": 54
        },
        "outputId": "5f0f21f3-1fc3-4aa0-b9c3-b09ab8d24384",
        "executionInfo": {
          "status": "ok",
          "timestamp": 1532966158119,
          "user_tz": 300,
          "elapsed": 1392,
          "user": {
            "displayName": "Diwas Sharma",
            "photoUrl": "//lh5.googleusercontent.com/-h1ZOMYxUceQ/AAAAAAAAAAI/AAAAAAAABf4/Hrms7AvHN-U/s50-c-k-no/photo.jpg",
            "userId": "111891363204141118836"
          }
        }
      },
      "cell_type": "code",
      "source": [
        "# Evaluate the model\n",
        "scores = model.evaluate(X_test, Y_test)\n",
        "print(\"Accuracy: {}\".format(scores[1]))"
      ],
      "execution_count": 6,
      "outputs": [
        {
          "output_type": "stream",
          "text": [
            "10000/10000 [==============================] - 1s 113us/step\n",
            "Accuracy: 0.6074\n"
          ],
          "name": "stdout"
        }
      ]
    }
  ]
}
